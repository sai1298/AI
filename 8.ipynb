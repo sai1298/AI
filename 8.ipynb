{
  "nbformat": 4,
  "nbformat_minor": 0,
  "metadata": {
    "colab": {
      "name": "8.ipynb",
      "provenance": [],
      "collapsed_sections": []
    },
    "kernelspec": {
      "name": "python3",
      "display_name": "Python 3"
    },
    "language_info": {
      "name": "python"
    }
  },
  "cells": [
    {
      "cell_type": "code",
      "execution_count": 15,
      "metadata": {
        "colab": {
          "base_uri": "https://localhost:8080/"
        },
        "id": "RprBLnOGhpqS",
        "outputId": "516ceb57-2ede-4385-b11d-0bb54d4dc11a"
      },
      "outputs": [
        {
          "output_type": "stream",
          "name": "stdout",
          "text": [
            "Testing accuracy Score is :  0.9666666666666667\n"
          ]
        }
      ],
      "source": [
        "import numpy as np \n",
        "import pandas as pd \n",
        "import matplotlib.pyplot as plt \n",
        "from sklearn.datasets import load_iris\n",
        "data = load_iris() \n",
        "df = pd.DataFrame(data.data, columns=data.feature_names) \n",
        "df['Class'] = data.target_names[data.target] \n",
        "df.head() \n",
        "x = df.iloc[:, :-1].values \n",
        "y = df.Class.values\n",
        "from sklearn.model_selection import train_test_split \n",
        "x_train, x_test, y_train, y_test = train_test_split(x, y, test_size = 0.2)\n",
        "from sklearn.neighbors import KNeighborsClassifier \n",
        "knn_classifier = KNeighborsClassifier(n_neighbors=5) \n",
        "knn_classifier.fit(x_train, y_train)\n",
        "predictions = knn_classifier.predict(x_test)\n",
        "from sklearn.metrics import accuracy_score, confusion_matrix \n",
        "print(\"Testing accuracy Score is : \",\n",
        "      accuracy_score(y_test, knn_classifier.predict(x_test)))\n"
      ]
    },
    {
      "cell_type": "code",
      "source": [
        ""
      ],
      "metadata": {
        "id": "f6lHwBWvi8TI"
      },
      "execution_count": null,
      "outputs": []
    }
  ]
}